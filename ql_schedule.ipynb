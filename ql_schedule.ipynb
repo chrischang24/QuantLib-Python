{
 "cells": [
  {
   "cell_type": "code",
   "execution_count": 1,
   "metadata": {},
   "outputs": [],
   "source": [
    "import QuantLib as ql"
   ]
  },
  {
   "cell_type": "code",
   "execution_count": 4,
   "metadata": {},
   "outputs": [
    {
     "name": "stdout",
     "output_type": "stream",
     "text": [
      "2023-01-17\n",
      "2023-01-18\n",
      "2023-01-19\n",
      "2023-01-20\n",
      "2023-01-23\n",
      "2023-01-24\n"
     ]
    }
   ],
   "source": [
    "startDate = ql.Date(17, 1, 2023)\n",
    "endDate = startDate + 7\n",
    "\n",
    "s = ql.MakeSchedule(startDate, endDate, frequency=ql.Daily, calendar=ql.TARGET())\n",
    "\n",
    "for s_d in s:\n",
    "    print(s_d.ISO())"
   ]
  },
  {
   "cell_type": "code",
   "execution_count": 7,
   "metadata": {},
   "outputs": [
    {
     "name": "stdout",
     "output_type": "stream",
     "text": [
      "2020-09-30\n",
      "2021-03-31\n",
      "2021-09-30\n",
      "2022-03-31\n",
      "2022-09-30\n",
      "2023-03-31\n",
      "2023-06-15\n"
     ]
    }
   ],
   "source": [
    "# Testing end date for schedule with end-of-month adjustment\n",
    "\n",
    "startDate = ql.Date(30, ql.September, 2020)\n",
    "endDate = ql.Date(15, ql.June, 2023)\n",
    "s = ql.MakeSchedule(startDate, endDate, frequency=ql.Semiannual, calendar=ql.TARGET()\n",
    "                    , convention=ql.Following, terminalDateConvention=ql.Following, forwards=True, endOfMonth=True)\n",
    "\n",
    "for s_d in s:\n",
    "    print(s_d.ISO())\n",
    "\n"
   ]
  }
 ],
 "metadata": {
  "kernelspec": {
   "display_name": ".venv",
   "language": "python",
   "name": "python3"
  },
  "language_info": {
   "codemirror_mode": {
    "name": "ipython",
    "version": 3
   },
   "file_extension": ".py",
   "mimetype": "text/x-python",
   "name": "python",
   "nbconvert_exporter": "python",
   "pygments_lexer": "ipython3",
   "version": "3.9.6"
  }
 },
 "nbformat": 4,
 "nbformat_minor": 2
}
