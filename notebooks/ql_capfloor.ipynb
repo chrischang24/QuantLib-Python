{
 "cells": [
  {
   "cell_type": "code",
   "execution_count": 1,
   "metadata": {},
   "outputs": [],
   "source": [
    "import QuantLib as ql"
   ]
  },
  {
   "cell_type": "code",
   "execution_count": 32,
   "metadata": {},
   "outputs": [],
   "source": [
    "# we define a CommonVars class for creating all variables or arguments that we need in below case.\n",
    "class CommonVars:\n",
    "\n",
    "    def __init__(self):\n",
    "        self.nominals = []\n",
    "        self.nominals.append(100.0)\n",
    "        self.frequency = ql.Quarterly\n",
    "        self.termStructure = ql.RelinkableYieldTermStructureHandle()\n",
    "        self.index = ql.Euribor3M(self.termStructure)\n",
    "        self.calendar = self.index.fixingCalendar()\n",
    "        self.businessConvention = ql.ModifiedFollowing\n",
    "        today = ql.Date(23,5,2023)\n",
    "        ql.Settings.instance().evaluationDate = today\n",
    "        self.fixingDays = 2\n",
    "        self.settlement = self.calendar.advance(today, self.fixingDays, ql.Days)\n",
    "        self.termStructure.linkTo(ql.FlatForward(self.settlement, 0.05, ql.Actual365Fixed()))\n",
    "    \n",
    "    def makeLeg(self, startDate, length, timeUnit):\n",
    "        endDate = self.calendar.advance(startDate, length, timeUnit, self.businessConvention)\n",
    "        legSchedule = ql.Schedule(startDate, endDate, ql.Period(self.frequency),\n",
    "                               self.calendar, self.businessConvention, self.businessConvention,\n",
    "                               ql.DateGeneration.Forward, False)\n",
    "        leg = ql.IborLeg(self.nominals,legSchedule, self.index, ql.Actual365Fixed(), \n",
    "                         self.businessConvention, \n",
    "                         fixingDays=[2], gearings=[1])\n",
    "        return leg\n",
    "    \n",
    "    def makeEngine(self, volatility):\n",
    "        return ql.BlackCapFloorEngine(self.termStructure, ql.QuoteHandle(ql.SimpleQuote(volatility)))\n",
    "    \n",
    "    def makeCapFloor(self, capfloorType, leg, strike, volatility):\n",
    "        strikes = []\n",
    "        strikes.append(strike)\n",
    "        if capfloorType == \"Cap\":\n",
    "            result = ql.Cap(leg, strikes)\n",
    "            result.setPricingEngine(self.makeEngine(volatility))\n",
    "            return result\n",
    "        elif capfloorType == \"Floor\":\n",
    "            result = ql.Floor(leg, strikes)\n",
    "            result.setPricingEngine(self.makeEngine(volatility))\n",
    "            return result\n",
    "        else:\n",
    "            return \"unknown cap/floor type\"\n",
    "        \n"
   ]
  },
  {
   "cell_type": "code",
   "execution_count": 74,
   "metadata": {},
   "outputs": [
    {
     "name": "stdout",
     "output_type": "stream",
     "text": [
      "vars: May 25th, 2023\n",
      "Cap pricing result, npv: 0.9549248835849425\n"
     ]
    }
   ],
   "source": [
    "#setup CommonVars object\n",
    "vars = CommonVars()\n",
    "print(f'vars: {vars.settlement}')\n",
    "\n",
    "#testing mkt data\n",
    "vol = 0.2\n",
    "strike = 0.04\n",
    "\n",
    "# initial cap/floor product\n",
    "leg = vars.makeLeg(vars.settlement, 12, ql.Months)\n",
    "cap = vars.makeCapFloor(\"Cap\", leg, strike, vol)\n",
    "cap.setPricingEngine(vars.makeEngine(vol))\n",
    "print(f\"Cap pricing result, npv: {cap.NPV()}\")"
   ]
  },
  {
   "cell_type": "code",
   "execution_count": 75,
   "metadata": {},
   "outputs": [
    {
     "data": {
      "text/html": [
       "<div>\n",
       "<style scoped>\n",
       "    .dataframe tbody tr th:only-of-type {\n",
       "        vertical-align: middle;\n",
       "    }\n",
       "\n",
       "    .dataframe tbody tr th {\n",
       "        vertical-align: top;\n",
       "    }\n",
       "\n",
       "    .dataframe thead th {\n",
       "        text-align: right;\n",
       "    }\n",
       "</style>\n",
       "<table border=\"1\" class=\"dataframe\">\n",
       "  <thead>\n",
       "    <tr style=\"text-align: right;\">\n",
       "      <th></th>\n",
       "      <th>dates</th>\n",
       "      <th>amounts</th>\n",
       "      <th>atmForward</th>\n",
       "      <th>price</th>\n",
       "    </tr>\n",
       "  </thead>\n",
       "  <tbody>\n",
       "    <tr>\n",
       "      <th>0</th>\n",
       "      <td>2023-08-25</td>\n",
       "      <td>1.250876</td>\n",
       "      <td>0.049627</td>\n",
       "      <td>0.239617</td>\n",
       "    </tr>\n",
       "    <tr>\n",
       "      <th>1</th>\n",
       "      <td>2023-11-27</td>\n",
       "      <td>1.278244</td>\n",
       "      <td>0.049634</td>\n",
       "      <td>0.242498</td>\n",
       "    </tr>\n",
       "    <tr>\n",
       "      <th>2</th>\n",
       "      <td>2024-02-26</td>\n",
       "      <td>1.237194</td>\n",
       "      <td>0.049624</td>\n",
       "      <td>0.235261</td>\n",
       "    </tr>\n",
       "    <tr>\n",
       "      <th>3</th>\n",
       "      <td>2024-05-27</td>\n",
       "      <td>1.237194</td>\n",
       "      <td>0.049624</td>\n",
       "      <td>0.237548</td>\n",
       "    </tr>\n",
       "  </tbody>\n",
       "</table>\n",
       "</div>"
      ],
      "text/plain": [
       "        dates   amounts  atmForward     price\n",
       "0  2023-08-25  1.250876    0.049627  0.239617\n",
       "1  2023-11-27  1.278244    0.049634  0.242498\n",
       "2  2024-02-26  1.237194    0.049624  0.235261\n",
       "3  2024-05-27  1.237194    0.049624  0.237548"
      ]
     },
     "metadata": {},
     "output_type": "display_data"
    }
   ],
   "source": [
    "import pandas as pd\n",
    "\n",
    "leg = cap.floatingLeg()\n",
    "\n",
    "dates=[]\n",
    "amt=[]\n",
    "for cf in leg:\n",
    "    dates.append(cf.date().ISO())\n",
    "    amt.append(cf.amount())\n",
    "\n",
    "caplets = pd.DataFrame({\n",
    "    'dates': dates,\n",
    "    'amounts': amt,\n",
    "    'atmForward': cap.optionletsAtmForward(),\n",
    "    'price' :cap.optionletsPrice()\n",
    "})\n",
    "\n",
    "display(caplets)"
   ]
  },
  {
   "cell_type": "code",
   "execution_count": 76,
   "metadata": {},
   "outputs": [
    {
     "name": "stdout",
     "output_type": "stream",
     "text": [
      "model value is : 0.02267504274081755\n",
      "implied vol is : 0.2\n",
      "HW model mean-reversion : 0.09998497040729101\n",
      "HW model volatility (sigma) : 0.011575998999501758\n",
      "cap pricing result with HW tree model\n",
      "cap NPV : 1.0362703563577056\n"
     ]
    }
   ],
   "source": [
    "# using Hull-White tree model\n",
    "# calibrate HW paramters\n",
    "# define model\n",
    "modelHW = ql.HullWhite(vars.termStructure)\n",
    "# define calibration helper\n",
    "index = vars.index\n",
    "quote = ql.SimpleQuote(vol)\n",
    "capHelper = ql.CapHelper(ql.Period(5, ql.Years), ql.QuoteHandle(quote),\n",
    "                         index, ql.Semiannual, ql.Actual365Fixed(), True,\n",
    "                         vars.termStructure, ql.BlackCalibrationHelper.PriceError)\n",
    "\n",
    "helperList = []\n",
    "helperList.append(capHelper)\n",
    "for h in helperList:\n",
    "    h.setPricingEngine(ql.AnalyticCapFloorEngine(modelHW, vars.termStructure))\n",
    "\n",
    "# do model calibration\n",
    "optimize = ql.BFGS()\n",
    "modelHW.calibrate(helperList, optimize, ql.EndCriteria(200, 100, 0.00000001, 0.00000001, 0.00000001))\n",
    "for h in helperList:\n",
    "    npv = h.modelValue()\n",
    "    impliedVol = h.impliedVolatility(npv, 0.0001, 1000, 0.05, 0.8)\n",
    "    print(f\"model value is : {npv}\")\n",
    "    print(f\"implied vol is : {impliedVol}\")\n",
    "\n",
    "print(f\"HW model mean-reversion : {modelHW.params()[0]}\")\n",
    "print(f\"HW model volatility (sigma) : {modelHW.params()[1]}\")\n",
    "\n",
    "# CapFloor Tree pricing Engine\n",
    "hwTreeEngine = ql.TreeCapFloorEngine(modelHW, 40, vars.termStructure)\n",
    "cap.setPricingEngine(hwTreeEngine)\n",
    "print(\"cap pricing result with HW tree model\")\n",
    "print(f\"cap NPV : {cap.NPV()}\")\n",
    "\n",
    "# Monte Carlo simulation\n",
    "# mcHWEngine = ql.MCHullWhiteCapFloorEngine <-- the class did not implemented in Python"
   ]
  }
 ],
 "metadata": {
  "kernelspec": {
   "display_name": ".venv",
   "language": "python",
   "name": "python3"
  },
  "language_info": {
   "codemirror_mode": {
    "name": "ipython",
    "version": 3
   },
   "file_extension": ".py",
   "mimetype": "text/x-python",
   "name": "python",
   "nbconvert_exporter": "python",
   "pygments_lexer": "ipython3",
   "version": "3.9.6"
  }
 },
 "nbformat": 4,
 "nbformat_minor": 2
}
