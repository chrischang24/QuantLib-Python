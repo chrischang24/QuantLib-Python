{
 "cells": [
  {
   "cell_type": "code",
   "execution_count": 2,
   "metadata": {},
   "outputs": [],
   "source": [
    "import QuantLib as ql"
   ]
  },
  {
   "cell_type": "code",
   "execution_count": 13,
   "metadata": {},
   "outputs": [
    {
     "name": "stdout",
     "output_type": "stream",
     "text": [
      "result: expected: $ 60210.00 calculated: $ 60210.00\n",
      "result: expected: EUR 83042.68 calculated: EUR 83042.68\n"
     ]
    }
   ],
   "source": [
    "# Test Direct conversion\n",
    "\n",
    "EUR = ql.EURCurrency()\n",
    "USD = ql.USDCurrency()\n",
    "\n",
    "fx_eur_usd = ql.ExchangeRate(EUR, USD, 1.2042)\n",
    "\n",
    "m_eur = 50000.0*EUR\n",
    "m_usd = 100000.0*USD\n",
    "\n",
    "ql.Money.setConversionType(ql.Money.NoConversion)\n",
    "\n",
    "calculated = fx_eur_usd.exchange(m_eur)\n",
    "expected = ql.Money(m_eur.value()*fx_eur_usd.rate(), USD)\n",
    "\n",
    "print(f'result: expected: {expected} calculated: {calculated}')\n",
    "\n",
    "calculated = fx_eur_usd.exchange(m_usd)\n",
    "expected = ql.Money(m_usd.value()/fx_eur_usd.rate(), EUR)\n",
    "\n",
    "print(f'result: expected: {expected} calculated: {calculated}')\n",
    "\n"
   ]
  },
  {
   "cell_type": "code",
   "execution_count": 17,
   "metadata": {},
   "outputs": [
    {
     "name": "stdout",
     "output_type": "stream",
     "text": [
      "result: expected: $ 91061.71 calculated: $ 91061.71\n",
      "result: expected: � 54907.82 calculated: � 54907.82\n"
     ]
    }
   ],
   "source": [
    "# Test derived exchange rates\n",
    "\n",
    "EUR = ql.EURCurrency()\n",
    "USD = ql.USDCurrency()\n",
    "GBP = ql.GBPCurrency()\n",
    "\n",
    "fx_eur_usd = ql.ExchangeRate(EUR, USD, 1.2042)\n",
    "fx_eur_gbp = ql.ExchangeRate(EUR, GBP, 0.6612)\n",
    "\n",
    "derived = ql.ExchangeRate.chain(fx_eur_usd, fx_eur_gbp)\n",
    "\n",
    "m_gbp = 50000.0*GBP\n",
    "m_usd = 100000.0*USD\n",
    "\n",
    "ql.Money.setConversionType(ql.Money.NoConversion)\n",
    "\n",
    "calculated = derived.exchange(m_gbp)\n",
    "expected = ql.Money(m_gbp.value()/fx_eur_gbp.rate()*fx_eur_usd.rate(), USD)\n",
    "print(f'result: expected: {expected} calculated: {calculated}')\n",
    "\n",
    "calculated = derived.exchange(m_usd)\n",
    "expected = ql.Money(m_usd.value()/fx_eur_usd.rate()*fx_eur_gbp.rate(), GBP)\n",
    "print(f'result: expected: {expected} calculated: {calculated}')"
   ]
  },
  {
   "cell_type": "code",
   "execution_count": 24,
   "metadata": {},
   "outputs": [
    {
     "name": "stdout",
     "output_type": "stream",
     "text": [
      "result: expected: $ 59915.00 calculated: $ 59915.00\n",
      "result: expected: $ 60521.00 calculated: $ 60521.00\n",
      "result: expected: EUR 83451.56 calculated: EUR 83451.56\n",
      "result: expected: EUR 82615.95 calculated: EUR 82615.95\n"
     ]
    }
   ],
   "source": [
    "# Test lookup of direct exchange rates\n",
    "\n",
    "rateManager = ql.ExchangeRateManager.instance()\n",
    "rateManager.clear()\n",
    "\n",
    "EUR = ql.EURCurrency()\n",
    "USD = ql.USDCurrency()\n",
    "\n",
    "eur_usd1 = ql.ExchangeRate(EUR, USD, 1.1983)\n",
    "eur_usd2 = ql.ExchangeRate(USD, EUR, 1.0/1.21042)\n",
    "rateManager.add(eur_usd1, ql.Date(4,8,2023))\n",
    "rateManager.add(eur_usd2, ql.Date(5,8,2023))\n",
    "\n",
    "m_eur = 50000.0*EUR\n",
    "m_usd = 100000.0*USD\n",
    "\n",
    "ql.Money.setConversionType(ql.Money.NoConversion)\n",
    "\n",
    "eur_usd = rateManager.lookup(EUR, USD, ql.Date(4,8,2023), ql.ExchangeRate.Direct)\n",
    "calculated = eur_usd.exchange(m_eur)\n",
    "expected = ql.Money(m_eur.value()*eur_usd1.rate(), USD)\n",
    "print(f'result: expected: {expected} calculated: {calculated}')\n",
    "\n",
    "eur_usd = rateManager.lookup(EUR, USD, ql.Date(5,8,2023), ql.ExchangeRate.Direct)\n",
    "calculated = eur_usd.exchange(m_eur)\n",
    "expected = ql.Money(m_eur.value()/eur_usd2.rate(), USD)\n",
    "print(f'result: expected: {expected} calculated: {calculated}')\n",
    "\n",
    "usd_eur = rateManager.lookup(USD, EUR, ql.Date(4,8,2023), ql.ExchangeRate.Direct)\n",
    "calculated = usd_eur.exchange(m_usd)\n",
    "expected = ql.Money(m_usd.value()/eur_usd1.rate(), EUR)\n",
    "print(f'result: expected: {expected} calculated: {calculated}')\n",
    "\n",
    "usd_eur = rateManager.lookup(USD, EUR, ql.Date(5,8,2023), ql.ExchangeRate.Direct)\n",
    "calculated = usd_eur.exchange(m_usd)\n",
    "expected = ql.Money(m_usd.value()*eur_usd2.rate(), EUR)\n",
    "print(f'result: expected: {expected} calculated: {calculated}')"
   ]
  }
 ],
 "metadata": {
  "kernelspec": {
   "display_name": ".venv",
   "language": "python",
   "name": "python3"
  },
  "language_info": {
   "codemirror_mode": {
    "name": "ipython",
    "version": 3
   },
   "file_extension": ".py",
   "mimetype": "text/x-python",
   "name": "python",
   "nbconvert_exporter": "python",
   "pygments_lexer": "ipython3",
   "version": "3.9.6"
  }
 },
 "nbformat": 4,
 "nbformat_minor": 2
}
