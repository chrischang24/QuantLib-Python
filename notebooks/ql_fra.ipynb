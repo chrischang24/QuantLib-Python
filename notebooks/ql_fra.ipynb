{
 "cells": [
  {
   "cell_type": "code",
   "execution_count": 1,
   "metadata": {},
   "outputs": [],
   "source": [
    "import QuantLib as ql"
   ]
  },
  {
   "cell_type": "code",
   "execution_count": 6,
   "metadata": {},
   "outputs": [
    {
     "name": "stdout",
     "output_type": "stream",
     "text": [
      "Today: 2023-05-23\n",
      "settlement: 2023-05-25\n"
     ]
    }
   ],
   "source": [
    "# setup dates\n",
    "todaysDate = ql.Date(23,5,2023)\n",
    "ql.Settings.instance().evaluationDate = todaysDate\n",
    "\n",
    "# setup market data\n",
    "euriborTermStructure = ql.RelinkableYieldTermStructureHandle()\n",
    "euribor3m = ql.Euribor3M(euriborTermStructure)\n",
    "\n",
    "cal = euribor3m.fixingCalendar()\n",
    "fixingDays = euribor3m.fixingDays()\n",
    "settlementDate = cal.advance(todaysDate, fixingDays, ql.Days, ql.ModifiedFollowing)\n",
    "print(f'Today: {todaysDate.ISO()}')\n",
    "print(f'settlement: {settlementDate.ISO()}')"
   ]
  },
  {
   "cell_type": "code",
   "execution_count": 13,
   "metadata": {},
   "outputs": [],
   "source": [
    "# setup 3 month term FRA quotes\n",
    "fra1x4Rate =ql.QuoteHandle(ql.SimpleQuote(0.03))\n",
    "fra2x5Rate =ql.QuoteHandle(ql.SimpleQuote(0.031))\n",
    "fra3x6Rate =ql.QuoteHandle(ql.SimpleQuote(0.032))\n",
    "fra6x9Rate =ql.QuoteHandle(ql.SimpleQuote(0.033))\n",
    "fra9x12Rate =ql.QuoteHandle(ql.SimpleQuote(0.035))"
   ]
  },
  {
   "cell_type": "code",
   "execution_count": 20,
   "metadata": {},
   "outputs": [
    {
     "name": "stdout",
     "output_type": "stream",
     "text": [
      "fra1x4 dates 2023-06-26 2023-09-26\n",
      "fra2x5 dates 2023-07-25 2023-10-25\n",
      "fra3x6 dates 2023-08-25 2023-11-27\n",
      "fra6x9 dates 2023-11-27 2024-02-27\n",
      "fra9x12 dates 2024-02-26 2024-05-27\n"
     ]
    }
   ],
   "source": [
    "# define Rate Helpers\n",
    "\n",
    "fraDayCounter = euribor3m.dayCounter()\n",
    "convention = euribor3m.businessDayConvention()\n",
    "endOfMonth = euribor3m.endOfMonth()\n",
    "\n",
    "fra1x4 = ql.FraRateHelper(fra1x4Rate,1,4,fixingDays, cal, convention, endOfMonth, fraDayCounter)\n",
    "fra2x5 = ql.FraRateHelper(fra2x5Rate,2,5,fixingDays, cal, convention, endOfMonth, fraDayCounter)\n",
    "fra3x6 = ql.FraRateHelper(fra3x6Rate,3,6,fixingDays, cal, convention, endOfMonth, fraDayCounter)\n",
    "fra6x9 = ql.FraRateHelper(fra6x9Rate,6,9,fixingDays, cal, convention, endOfMonth, fraDayCounter)\n",
    "fra9x12 = ql.FraRateHelper(fra9x12Rate,9,12,fixingDays, cal, convention, endOfMonth, fraDayCounter)\n",
    "\n",
    "print(f'fra1x4 dates {fra1x4.earliestDate().ISO()} {fra1x4.latestDate().ISO()}')\n",
    "print(f'fra2x5 dates {fra2x5.earliestDate().ISO()} {fra2x5.latestDate().ISO()}')\n",
    "print(f'fra3x6 dates {fra3x6.earliestDate().ISO()} {fra3x6.latestDate().ISO()}')\n",
    "print(f'fra6x9 dates {fra6x9.earliestDate().ISO()} {fra6x9.latestDate().ISO()}')\n",
    "print(f'fra9x12 dates {fra9x12.earliestDate().ISO()} {fra9x12.latestDate().ISO()}')"
   ]
  },
  {
   "cell_type": "code",
   "execution_count": 24,
   "metadata": {},
   "outputs": [],
   "source": [
    "# Curve Buliding\n",
    "tsDayCounter = ql.ActualActual(ql.ActualActual.ISDA)\n",
    "fraInstruments = ql.RateHelperVector()\n",
    "fraInstruments.append(fra1x4)\n",
    "fraInstruments.append(fra2x5)\n",
    "fraInstruments.append(fra3x6)\n",
    "fraInstruments.append(fra6x9)\n",
    "fraInstruments.append(fra9x12)\n",
    "\n",
    "fraTermStructure = ql.PiecewiseLogLinearDiscount(todaysDate, fraInstruments, tsDayCounter)\n",
    "\n",
    "discFactors=[]\n",
    "for d in fraTermStructure.dates():\n",
    "    date = d.ISO()\n",
    "    timeFrom = fraTermStructure.timeFromReference(d)\n",
    "    zero = fraTermStructure.zeroRate(d, ql.Actual365Fixed(), ql.Continuous)\n",
    "    disc = fraTermStructure.discount(d)\n",
    "    discData = {'Date': date,'TimeFrom':timeFrom,'ZeroRate':zero.rate()*100.0, 'Discount': disc}\n",
    "    discFactors.append(discData)"
   ]
  },
  {
   "cell_type": "code",
   "execution_count": 25,
   "metadata": {},
   "outputs": [
    {
     "name": "stderr",
     "output_type": "stream",
     "text": [
      "/var/folders/n1/1xxjd2457hgd6l54vv_vdy_c0000gp/T/ipykernel_38069/3557948501.py:1: DeprecationWarning: \n",
      "Pyarrow will become a required dependency of pandas in the next major release of pandas (pandas 3.0),\n",
      "(to allow more performant data types, such as the Arrow string type, and better interoperability with other libraries)\n",
      "but was not found to be installed on your system.\n",
      "If this would cause problems for you,\n",
      "please provide us feedback at https://github.com/pandas-dev/pandas/issues/54466\n",
      "        \n",
      "  import pandas as pd\n"
     ]
    },
    {
     "data": {
      "text/html": [
       "<div>\n",
       "<style scoped>\n",
       "    .dataframe tbody tr th:only-of-type {\n",
       "        vertical-align: middle;\n",
       "    }\n",
       "\n",
       "    .dataframe tbody tr th {\n",
       "        vertical-align: top;\n",
       "    }\n",
       "\n",
       "    .dataframe thead th {\n",
       "        text-align: right;\n",
       "    }\n",
       "</style>\n",
       "<table border=\"1\" class=\"dataframe\">\n",
       "  <thead>\n",
       "    <tr style=\"text-align: right;\">\n",
       "      <th></th>\n",
       "      <th>Date</th>\n",
       "      <th>TimeFrom</th>\n",
       "      <th>ZeroRate</th>\n",
       "      <th>Discount</th>\n",
       "    </tr>\n",
       "  </thead>\n",
       "  <tbody>\n",
       "    <tr>\n",
       "      <th>0</th>\n",
       "      <td>2023-05-23</td>\n",
       "      <td>0.000000</td>\n",
       "      <td>3.030066</td>\n",
       "      <td>1.000000</td>\n",
       "    </tr>\n",
       "    <tr>\n",
       "      <th>1</th>\n",
       "      <td>2023-09-26</td>\n",
       "      <td>0.345205</td>\n",
       "      <td>3.030066</td>\n",
       "      <td>0.989595</td>\n",
       "    </tr>\n",
       "    <tr>\n",
       "      <th>2</th>\n",
       "      <td>2023-10-25</td>\n",
       "      <td>0.424658</td>\n",
       "      <td>3.089780</td>\n",
       "      <td>0.986965</td>\n",
       "    </tr>\n",
       "    <tr>\n",
       "      <th>3</th>\n",
       "      <td>2023-11-27</td>\n",
       "      <td>0.515068</td>\n",
       "      <td>3.130516</td>\n",
       "      <td>0.984005</td>\n",
       "    </tr>\n",
       "    <tr>\n",
       "      <th>4</th>\n",
       "      <td>2024-02-27</td>\n",
       "      <td>0.766697</td>\n",
       "      <td>3.196653</td>\n",
       "      <td>0.975776</td>\n",
       "    </tr>\n",
       "    <tr>\n",
       "      <th>5</th>\n",
       "      <td>2024-05-27</td>\n",
       "      <td>1.012598</td>\n",
       "      <td>3.279022</td>\n",
       "      <td>0.967307</td>\n",
       "    </tr>\n",
       "  </tbody>\n",
       "</table>\n",
       "</div>"
      ],
      "text/plain": [
       "         Date  TimeFrom  ZeroRate  Discount\n",
       "0  2023-05-23  0.000000  3.030066  1.000000\n",
       "1  2023-09-26  0.345205  3.030066  0.989595\n",
       "2  2023-10-25  0.424658  3.089780  0.986965\n",
       "3  2023-11-27  0.515068  3.130516  0.984005\n",
       "4  2024-02-27  0.766697  3.196653  0.975776\n",
       "5  2024-05-27  1.012598  3.279022  0.967307"
      ]
     },
     "metadata": {},
     "output_type": "display_data"
    }
   ],
   "source": [
    "import pandas as pd\n",
    "\n",
    "discData = pd.DataFrame(discFactors)\n",
    "display(discData)"
   ]
  },
  {
   "cell_type": "code",
   "execution_count": 32,
   "metadata": {},
   "outputs": [
    {
     "name": "stdout",
     "output_type": "stream",
     "text": [
      "Test FRA construction, NPV calculation, and FRA purchase\n",
      "3M Term FRA, Months to start: 1\n",
      "strike FRA rate: 0.03\n",
      "FRA 3M forward rate 0.02999999999999409\n",
      "FRA amount: -1.4984537177315174e-11\n",
      "FRA NPV: -1.4942302542542784e-11\n",
      "3M Term FRA, Months to start: 2\n",
      "strike FRA rate: 0.03\n",
      "FRA 3M forward rate 0.03099999999997371\n",
      "FRA amount: 2.535469006580696\n",
      "FRA NPV: 2.5222431768404867\n",
      "3M Term FRA, Months to start: 3\n",
      "strike FRA rate: 0.03\n",
      "FRA 3M forward rate 0.031999999999979184\n",
      "FRA amount: 5.178949224205649\n",
      "FRA NPV: 5.138692784655805\n",
      "3M Term FRA, Months to start: 6\n",
      "strike FRA rate: 0.03\n",
      "FRA 3M forward rate 0.03299999999999984\n",
      "FRA amount: 7.602551813042936\n",
      "FRA NPV: 7.4809490068842575\n",
      "3M Term FRA, Months to start: 9\n",
      "strike FRA rate: 0.03\n",
      "FRA 3M forward rate 0.035000000000000024\n",
      "FRA amount: 12.528050442611956\n",
      "FRA NPV: 12.225685191089083\n"
     ]
    }
   ],
   "source": [
    "# Price the FRA\n",
    "\n",
    "fraCalendar = euribor3m.fixingCalendar()\n",
    "fraConvention = euribor3m.businessDayConvention()\n",
    "fraFwdType = ql.Position.Long\n",
    "fraNotional = 10000.0\n",
    "fraTermMonths = 3\n",
    "monthsToStart = [1,2,3,6,9]\n",
    "\n",
    "euriborTermStructure.linkTo(fraTermStructure)\n",
    "\n",
    "print('Test FRA construction, NPV calculation, and FRA purchase')\n",
    "\n",
    "for m in monthsToStart:\n",
    "    fraValueDate = fraCalendar.advance(settlementDate, m, ql.Months, fraConvention)\n",
    "    fraStrikeRate = 0.03\n",
    "    myFRA = ql.ForwardRateAgreement(euribor3m, fraValueDate, fraFwdType, fraStrikeRate, fraNotional)\n",
    "    \n",
    "    print(f'3M Term FRA, Months to start: {m}')\n",
    "    print(f'strike FRA rate: {fraStrikeRate}')\n",
    "    print(f'FRA 3M forward rate {myFRA.forwardRate().rate()}')\n",
    "    print(f'FRA amount: {myFRA.amount()}')\n",
    "    print(f'FRA NPV: {myFRA.NPV()}')"
   ]
  }
 ],
 "metadata": {
  "kernelspec": {
   "display_name": ".venv",
   "language": "python",
   "name": "python3"
  },
  "language_info": {
   "codemirror_mode": {
    "name": "ipython",
    "version": 3
   },
   "file_extension": ".py",
   "mimetype": "text/x-python",
   "name": "python",
   "nbconvert_exporter": "python",
   "pygments_lexer": "ipython3",
   "version": "3.9.6"
  }
 },
 "nbformat": 4,
 "nbformat_minor": 2
}
