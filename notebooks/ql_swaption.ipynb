{
 "cells": [
  {
   "cell_type": "code",
   "execution_count": 2,
   "metadata": {},
   "outputs": [],
   "source": [
    "import QuantLib as ql"
   ]
  },
  {
   "cell_type": "code",
   "execution_count": 14,
   "metadata": {},
   "outputs": [],
   "source": [
    "# we define a CommonVars class for creating all variables or arguments that we need in below case.\n",
    "class swCommonVars:\n",
    "\n",
    "    def __init__(self):\n",
    "        self.settlementDays = 2\n",
    "        self.nominal = 1000000.0\n",
    "        self.fixedConvention = ql.Unadjusted\n",
    "        self.fixedFrequency = ql.Annual\n",
    "        self.fixedDayCount = ql.Thirty360(ql.ModifiedFollowing)\n",
    "\n",
    "        self.termStructure = ql.RelinkableYieldTermStructureHandle()\n",
    "        self.index = ql.Euribor6M(self.termStructure)\n",
    "        self.floatingConvention = self.index.businessDayConvention()\n",
    "        self.floatingTenor = self.index.tenor()\n",
    "        self.calendar = self.index.fixingCalendar()\n",
    "        today = ql.Date(13,3,2002)\n",
    "        ql.Settings.instance().evaluationDate = today\n",
    "        self.settlement = self.calendar.advance(today, self.settlementDays, ql.Days)\n",
    "        self.termStructure.linkTo(ql.FlatForward(self.settlement, 0.05, ql.Actual365Fixed()))\n",
    "\n",
    "    def makeSwaption(self, swap, exercise, volatility, settlementType):\n",
    "        vol = ql.QuoteHandle(ql.SimpleQuote(volatility))\n",
    "        engine = ql.BlackSwaptionEngine(self.termStructure, vol)\n",
    "        swopt = ql.Swaption(swap, ql.EuropeanExercise(exercise), settlementType)\n",
    "        swopt.setPricingEngine(engine)\n",
    "        return swopt\n",
    "    "
   ]
  },
  {
   "cell_type": "code",
   "execution_count": 15,
   "metadata": {},
   "outputs": [
    {
     "name": "stdout",
     "output_type": "stream",
     "text": [
      "test swaption NPV : 0.03641815857863785\n"
     ]
    }
   ],
   "source": [
    "# Swaption test case\n",
    "swVars = swCommonVars()\n",
    "\n",
    "swVars.termStructure.linkTo(ql.FlatForward(swVars.settlement, 0.05, ql.Actual365Fixed()))\n",
    "exerciseDate = swVars.calendar.advance(swVars.settlement, ql.Period(5, ql.Years))\n",
    "startDate = swVars.calendar.advance(exerciseDate, swVars.settlementDays, ql.Days, ql.Following)\n",
    "forwardStart = ql.Period('0D')\n",
    "swap = ql.MakeVanillaSwap(ql.Period(10, ql.Years), swVars.index, 0.06, forwardStart, effectiveDate=startDate)\n",
    "swaption = swVars.makeSwaption(swap, exerciseDate, 0.2, ql.Settlement.Physical)\n",
    "\n",
    "print(f\"test swaption NPV : {swaption.NPV()}\")"
   ]
  }
 ],
 "metadata": {
  "kernelspec": {
   "display_name": ".venv",
   "language": "python",
   "name": "python3"
  },
  "language_info": {
   "codemirror_mode": {
    "name": "ipython",
    "version": 3
   },
   "file_extension": ".py",
   "mimetype": "text/x-python",
   "name": "python",
   "nbconvert_exporter": "python",
   "pygments_lexer": "ipython3",
   "version": "3.9.6"
  }
 },
 "nbformat": 4,
 "nbformat_minor": 2
}
