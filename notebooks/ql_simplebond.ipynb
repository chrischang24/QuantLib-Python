{
 "cells": [
  {
   "cell_type": "code",
   "execution_count": 1,
   "metadata": {},
   "outputs": [],
   "source": [
    "import QuantLib as ql "
   ]
  },
  {
   "cell_type": "code",
   "execution_count": 2,
   "metadata": {},
   "outputs": [
    {
     "name": "stdout",
     "output_type": "stream",
     "text": [
      "2023-01-15\n"
     ]
    }
   ],
   "source": [
    "issue_date = ql.Date(15,1,2023)\n",
    "print(issue_date.to_date())\n",
    "maturity_date = ql.Date(15,1,2028)\n",
    "schedule = ql.MakeSchedule(issue_date, maturity_date, ql.Period('1Y'))\n",
    "coupon_rate = 0.05\n",
    "face_value = 1000000.0\n",
    "frequency = ql.Period(ql.Annual)\n",
    "cal = ql.TARGET()\n",
    "day_conv = ql.Business252()\n",
    "bond = ql.FixedRateBond(2,cal, face_value, issue_date, maturity_date, frequency, [coupon_rate], day_conv)\n",
    "#cf = bond.cashflows()"
   ]
  },
  {
   "cell_type": "code",
   "execution_count": 3,
   "metadata": {},
   "outputs": [
    {
     "data": {
      "text/html": [
       "<div>\n",
       "<style scoped>\n",
       "    .dataframe tbody tr th:only-of-type {\n",
       "        vertical-align: middle;\n",
       "    }\n",
       "\n",
       "    .dataframe tbody tr th {\n",
       "        vertical-align: top;\n",
       "    }\n",
       "\n",
       "    .dataframe thead th {\n",
       "        text-align: right;\n",
       "    }\n",
       "</style>\n",
       "<table border=\"1\" class=\"dataframe\">\n",
       "  <thead>\n",
       "    <tr style=\"text-align: right;\">\n",
       "      <th></th>\n",
       "      <th>date</th>\n",
       "      <th>amount</th>\n",
       "    </tr>\n",
       "  </thead>\n",
       "  <tbody>\n",
       "    <tr>\n",
       "      <th>0</th>\n",
       "      <td>2024-01-15</td>\n",
       "      <td>49206.349206</td>\n",
       "    </tr>\n",
       "    <tr>\n",
       "      <th>1</th>\n",
       "      <td>2025-01-15</td>\n",
       "      <td>50396.825397</td>\n",
       "    </tr>\n",
       "    <tr>\n",
       "      <th>2</th>\n",
       "      <td>2026-01-15</td>\n",
       "      <td>50198.412698</td>\n",
       "    </tr>\n",
       "    <tr>\n",
       "      <th>3</th>\n",
       "      <td>2027-01-15</td>\n",
       "      <td>49603.174603</td>\n",
       "    </tr>\n",
       "    <tr>\n",
       "      <th>4</th>\n",
       "      <td>2028-01-17</td>\n",
       "      <td>50000.000000</td>\n",
       "    </tr>\n",
       "    <tr>\n",
       "      <th>5</th>\n",
       "      <td>2028-01-17</td>\n",
       "      <td>1000000.000000</td>\n",
       "    </tr>\n",
       "  </tbody>\n",
       "</table>\n",
       "</div>"
      ],
      "text/plain": [
       "         date          amount\n",
       "0  2024-01-15    49206.349206\n",
       "1  2025-01-15    50396.825397\n",
       "2  2026-01-15    50198.412698\n",
       "3  2027-01-15    49603.174603\n",
       "4  2028-01-17    50000.000000\n",
       "5  2028-01-17  1000000.000000"
      ]
     },
     "metadata": {},
     "output_type": "display_data"
    }
   ],
   "source": [
    "# print Bond cash flows by using pandas\n",
    "import pandas as pd\n",
    "\n",
    "cashflows = pd.DataFrame({'date': cf.date().ISO(),\n",
    "                          'amount': cf.amount()\n",
    "                          } for cf in bond.cashflows())\n",
    "display(cashflows)"
   ]
  }
 ],
 "metadata": {
  "kernelspec": {
   "display_name": ".venv",
   "language": "python",
   "name": "python3"
  },
  "language_info": {
   "codemirror_mode": {
    "name": "ipython",
    "version": 3
   },
   "file_extension": ".py",
   "mimetype": "text/x-python",
   "name": "python",
   "nbconvert_exporter": "python",
   "pygments_lexer": "ipython3",
   "version": "3.9.6"
  }
 },
 "nbformat": 4,
 "nbformat_minor": 2
}
