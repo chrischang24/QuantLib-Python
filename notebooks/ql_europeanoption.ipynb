{
 "cells": [
  {
   "cell_type": "code",
   "execution_count": 1,
   "metadata": {},
   "outputs": [],
   "source": [
    "import QuantLib as ql"
   ]
  },
  {
   "cell_type": "code",
   "execution_count": 21,
   "metadata": {},
   "outputs": [
    {
     "name": "stdout",
     "output_type": "stream",
     "text": [
      "expiry date: 2023-08-23\n",
      "Option Price: 2.1900\n",
      "Delta: 0.5046\n",
      "Gamma: 0.0708\n",
      "Vega: 19.9038\n"
     ]
    }
   ],
   "source": [
    "# setup dates\n",
    "todaysDate = ql.Date(23,5,2023)\n",
    "cal = ql.TARGET()\n",
    "expiryDate = cal.advance(todaysDate,3,ql.Months,ql.ModifiedFollowing)\n",
    "ql.Settings.instance().evaluationDate = todaysDate\n",
    "\n",
    "#setup market parameters\n",
    "dayCounter = ql.Actual360()\n",
    "spot = ql.SimpleQuote(100.0)\n",
    "vol = ql.SimpleQuote(0.11)\n",
    "divRate = ql.SimpleQuote(0.05)\n",
    "riskfreeRate = ql.SimpleQuote(0.05)\n",
    "\n",
    "# setup the option type\n",
    "optionType = ql.Option.Call\n",
    "\n",
    "#set up the spot and dividend yield\n",
    "spotHandle = ql.QuoteHandle(spot)\n",
    "divHandle =ql.YieldTermStructureHandle(ql.FlatForward(todaysDate,ql.QuoteHandle(divRate),dayCounter))\n",
    "\n",
    "#set up the volatility (flat volatility)\n",
    "volHandle = ql.BlackVolTermStructureHandle(ql.BlackConstantVol(todaysDate, cal, \n",
    "                                                               ql.QuoteHandle(vol),dayCounter))\n",
    "\n",
    "#set up the risk-free rate\n",
    "rateHandle =ql.YieldTermStructureHandle(ql.FlatForward(todaysDate,ql.QuoteHandle(riskfreeRate),dayCounter))\n",
    "\n",
    "#create the FX option\n",
    "strike = 100.0 \n",
    "payoff = ql.PlainVanillaPayoff(optionType,strike)\n",
    "exercise = ql.EuropeanExercise(expiryDate)\n",
    "fxOption = ql.VanillaOption(payoff, exercise)\n",
    "\n",
    "#set up the Black-Scholes pricing engine\n",
    "bsProcess = ql.BlackScholesMertonProcess(spotHandle, divHandle, rateHandle, volHandle)\n",
    "bsPricingEngine = ql.AnalyticEuropeanEngine(bsProcess)\n",
    "fxOption.setPricingEngine(bsPricingEngine)\n",
    "\n",
    "#calculate the option price and greeks.\n",
    "price = fxOption.NPV()\n",
    "delta = fxOption.delta()\n",
    "gamma = fxOption.gamma()\n",
    "vega = fxOption.vega()\n",
    "\n",
    "#display results\n",
    "print(f\"expiry date: {expiryDate.ISO()}\")\n",
    "print(f\"Option Price: {price:.4f}\")\n",
    "print(f\"Delta: {delta:.4f}\")\n",
    "print(f\"Gamma: {gamma:.4f}\")\n",
    "print(f\"Vega: {vega:.4f}\")\n"
   ]
  }
 ],
 "metadata": {
  "kernelspec": {
   "display_name": ".venv",
   "language": "python",
   "name": "python3"
  },
  "language_info": {
   "codemirror_mode": {
    "name": "ipython",
    "version": 3
   },
   "file_extension": ".py",
   "mimetype": "text/x-python",
   "name": "python",
   "nbconvert_exporter": "python",
   "pygments_lexer": "ipython3",
   "version": "3.9.6"
  }
 },
 "nbformat": 4,
 "nbformat_minor": 2
}
