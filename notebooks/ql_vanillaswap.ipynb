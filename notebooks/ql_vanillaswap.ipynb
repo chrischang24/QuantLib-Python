{
 "cells": [
  {
   "cell_type": "code",
   "execution_count": 1,
   "metadata": {},
   "outputs": [],
   "source": [
    "import QuantLib as ql"
   ]
  },
  {
   "cell_type": "code",
   "execution_count": 9,
   "metadata": {},
   "outputs": [],
   "source": [
    "#Create a relinkable yield term structure handle and build a curve\n",
    "yts = ql.RelinkableYieldTermStructureHandle()\n",
    "\n",
    "instruments = [\n",
    "    #('depo','3M', 0.025),\n",
    "    ('depo','6M', 0.045),\n",
    "    ('swap','1Y', 0.051),\n",
    "    ('swap','2Y', 0.071),\n",
    "    ('swap','3Y', 0.088)\n",
    "]\n",
    "\n",
    "helpers = ql.RateHelperVector()\n",
    "index = ql.Euribor6M(yts)\n",
    "\n",
    "for inst, tenor, rate in instruments:\n",
    "    if inst == 'depo':\n",
    "        helpers.append(ql.DepositRateHelper(rate, index))\n",
    "    if inst == 'swap':\n",
    "        swapIndex = ql.EuriborSwapIsdaFixA(ql.Period(tenor))\n",
    "        helpers.append(ql.SwapRateHelper(rate, swapIndex))\n",
    "\n",
    "curve = ql.PiecewiseLogLinearDiscount(2, ql.TARGET(), helpers, ql.Actual365Fixed())"
   ]
  },
  {
   "cell_type": "code",
   "execution_count": 10,
   "metadata": {},
   "outputs": [],
   "source": [
    "#Link the built curve to the relinkable yield term structure handle and build a swap pricing engine\n",
    "\n",
    "yts.linkTo(curve)\n",
    "engine = ql.DiscountingSwapEngine(yts)"
   ]
  },
  {
   "cell_type": "code",
   "execution_count": 11,
   "metadata": {},
   "outputs": [],
   "source": [
    "#Build a vanilla swap and provide a pricing engine\n",
    "tenor = ql.Period('2Y')\n",
    "fixedRate = 0.05\n",
    "forwardStart = ql.Period('2D')\n",
    "\n",
    "swap = ql.MakeVanillaSwap(tenor, index, fixedRate, forwardStart, Nominal=10e6, pricingEngine=engine)"
   ]
  },
  {
   "cell_type": "code",
   "execution_count": 12,
   "metadata": {},
   "outputs": [
    {
     "name": "stdout",
     "output_type": "stream",
     "text": [
      "Fair Swap rate: 7.133%\n",
      "Swap NPV: 388,352.123\n"
     ]
    }
   ],
   "source": [
    "#Get the fair rate and NPV\n",
    "fairRate = swap.fairRate()\n",
    "npv = swap.NPV()\n",
    "\n",
    "print(f'Fair Swap rate: {fairRate:.3%}')\n",
    "print(f'Swap NPV: {npv:,.3f}')"
   ]
  },
  {
   "cell_type": "code",
   "execution_count": 15,
   "metadata": {},
   "outputs": [
    {
     "data": {
      "text/html": [
       "<div>\n",
       "<style scoped>\n",
       "    .dataframe tbody tr th:only-of-type {\n",
       "        vertical-align: middle;\n",
       "    }\n",
       "\n",
       "    .dataframe tbody tr th {\n",
       "        vertical-align: top;\n",
       "    }\n",
       "\n",
       "    .dataframe thead th {\n",
       "        text-align: right;\n",
       "    }\n",
       "</style>\n",
       "<table border=\"1\" class=\"dataframe\">\n",
       "  <thead>\n",
       "    <tr style=\"text-align: right;\">\n",
       "      <th></th>\n",
       "      <th>date</th>\n",
       "      <th>amount</th>\n",
       "    </tr>\n",
       "  </thead>\n",
       "  <tbody>\n",
       "    <tr>\n",
       "      <th>0</th>\n",
       "      <td>July 22nd, 2024</td>\n",
       "      <td>228,249.00</td>\n",
       "    </tr>\n",
       "    <tr>\n",
       "      <th>1</th>\n",
       "      <td>January 22nd, 2025</td>\n",
       "      <td>278,044.81</td>\n",
       "    </tr>\n",
       "    <tr>\n",
       "      <th>2</th>\n",
       "      <td>July 22nd, 2025</td>\n",
       "      <td>450,768.45</td>\n",
       "    </tr>\n",
       "    <tr>\n",
       "      <th>3</th>\n",
       "      <td>January 22nd, 2026</td>\n",
       "      <td>461,130.17</td>\n",
       "    </tr>\n",
       "  </tbody>\n",
       "</table>\n",
       "</div>"
      ],
      "text/plain": [
       "                 date     amount\n",
       "0     July 22nd, 2024 228,249.00\n",
       "1  January 22nd, 2025 278,044.81\n",
       "2     July 22nd, 2025 450,768.45\n",
       "3  January 22nd, 2026 461,130.17"
      ]
     },
     "metadata": {},
     "output_type": "display_data"
    }
   ],
   "source": [
    "import pandas as pd\n",
    "pd.options.display.float_format = '{:,.2f}'.format\n",
    "\n",
    "cashflows = pd.DataFrame({\n",
    "    'date': cf.date(),\n",
    "    'amount': cf.amount()\n",
    "} for cf in swap.leg(1))\n",
    "\n",
    "display(cashflows)"
   ]
  },
  {
   "cell_type": "code",
   "execution_count": 17,
   "metadata": {},
   "outputs": [
    {
     "data": {
      "text/html": [
       "<div>\n",
       "<style scoped>\n",
       "    .dataframe tbody tr th:only-of-type {\n",
       "        vertical-align: middle;\n",
       "    }\n",
       "\n",
       "    .dataframe tbody tr th {\n",
       "        vertical-align: top;\n",
       "    }\n",
       "\n",
       "    .dataframe thead th {\n",
       "        text-align: right;\n",
       "    }\n",
       "</style>\n",
       "<table border=\"1\" class=\"dataframe\">\n",
       "  <thead>\n",
       "    <tr style=\"text-align: right;\">\n",
       "      <th></th>\n",
       "      <th>nominal</th>\n",
       "      <th>accrualStartDate</th>\n",
       "      <th>accrualEndDate</th>\n",
       "      <th>rate</th>\n",
       "      <th>amount</th>\n",
       "    </tr>\n",
       "  </thead>\n",
       "  <tbody>\n",
       "    <tr>\n",
       "      <th>0</th>\n",
       "      <td>10,000,000.00</td>\n",
       "      <td>2024-01-22</td>\n",
       "      <td>2024-07-22</td>\n",
       "      <td>0.05</td>\n",
       "      <td>228,249.00</td>\n",
       "    </tr>\n",
       "    <tr>\n",
       "      <th>1</th>\n",
       "      <td>10,000,000.00</td>\n",
       "      <td>2024-07-22</td>\n",
       "      <td>2025-01-22</td>\n",
       "      <td>0.05</td>\n",
       "      <td>278,044.81</td>\n",
       "    </tr>\n",
       "    <tr>\n",
       "      <th>2</th>\n",
       "      <td>10,000,000.00</td>\n",
       "      <td>2025-01-22</td>\n",
       "      <td>2025-07-22</td>\n",
       "      <td>0.09</td>\n",
       "      <td>450,768.45</td>\n",
       "    </tr>\n",
       "    <tr>\n",
       "      <th>3</th>\n",
       "      <td>10,000,000.00</td>\n",
       "      <td>2025-07-22</td>\n",
       "      <td>2026-01-22</td>\n",
       "      <td>0.09</td>\n",
       "      <td>461,130.17</td>\n",
       "    </tr>\n",
       "  </tbody>\n",
       "</table>\n",
       "</div>"
      ],
      "text/plain": [
       "        nominal accrualStartDate accrualEndDate  rate     amount\n",
       "0 10,000,000.00       2024-01-22     2024-07-22  0.05 228,249.00\n",
       "1 10,000,000.00       2024-07-22     2025-01-22  0.05 278,044.81\n",
       "2 10,000,000.00       2025-01-22     2025-07-22  0.09 450,768.45\n",
       "3 10,000,000.00       2025-07-22     2026-01-22  0.09 461,130.17"
      ]
     },
     "metadata": {},
     "output_type": "display_data"
    }
   ],
   "source": [
    "cashflows = pd.DataFrame({\n",
    "    'nominal': cf.nominal(),\n",
    "    'accrualStartDate': cf.accrualStartDate().ISO(),\n",
    "    'accrualEndDate': cf.accrualEndDate().ISO(),\n",
    "    'rate': cf.rate(),\n",
    "    'amount': cf.amount()\n",
    "} for cf in map(ql.as_coupon, swap.leg(1)))\n",
    "\n",
    "display(cashflows)"
   ]
  }
 ],
 "metadata": {
  "kernelspec": {
   "display_name": ".venv",
   "language": "python",
   "name": "python3"
  },
  "language_info": {
   "codemirror_mode": {
    "name": "ipython",
    "version": 3
   },
   "file_extension": ".py",
   "mimetype": "text/x-python",
   "name": "python",
   "nbconvert_exporter": "python",
   "pygments_lexer": "ipython3",
   "version": "3.9.6"
  }
 },
 "nbformat": 4,
 "nbformat_minor": 2
}
