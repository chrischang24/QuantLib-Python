{
 "cells": [
  {
   "cell_type": "code",
   "execution_count": 52,
   "metadata": {},
   "outputs": [],
   "source": [
    "import QuantLib as ql"
   ]
  },
  {
   "cell_type": "code",
   "execution_count": 53,
   "metadata": {},
   "outputs": [
    {
     "name": "stdout",
     "output_type": "stream",
     "text": [
      "Today is 2023-06-09\n",
      "Settlement Date is 2023-06-13\n"
     ]
    }
   ],
   "source": [
    "# setup Dates\n",
    "cal = ql.TARGET()\n",
    "todaysDate = ql.Date(9,6,2023)\n",
    "shiftUnit = ql.Period(2, ql.Days)\n",
    "settlementDate = cal.advance(todaysDate, shiftUnit, ql.ModifiedFollowing, False)\n",
    "ql.Settings.instance().evaluationDate = todaysDate\n",
    "print(f'Today is {todaysDate.ISO()}')\n",
    "print(f'Settlement Date is {settlementDate.ISO()}')"
   ]
  },
  {
   "cell_type": "code",
   "execution_count": 54,
   "metadata": {},
   "outputs": [],
   "source": [
    "# setup market quotes data\n",
    "# Money Market rate\n",
    "d1wQuote = 0.0382\n",
    "d1mQuote = 0.0372\n",
    "d3mQuote = 0.0363\n",
    "d6mQuote = 0.0353\n",
    "d9mQuote = 0.0348\n",
    "d1yQuote = 0.0345\n",
    "# swap rate\n",
    "s2yQuote = 0.037125\n",
    "s3yQuote = 0.0398\n",
    "s5yQuote = 0.0443\n",
    "s10yQuote = 0.05165\n",
    "s15yQuote = 0.055175\n",
    "\n",
    "# define Quotes\n",
    "# SimpleQuotes stores a value which can be manually changed;\n",
    "# deposit rate (money market rate)\n",
    "d1wRate = ql.QuoteHandle(ql.SimpleQuote(d1wQuote))\n",
    "d1mRate = ql.QuoteHandle(ql.SimpleQuote(d1mQuote))\n",
    "d3mRate = ql.QuoteHandle(ql.SimpleQuote(d3mQuote))\n",
    "d6mRate = ql.QuoteHandle(ql.SimpleQuote(d6mQuote))\n",
    "d9mRate = ql.QuoteHandle(ql.SimpleQuote(d9mQuote))\n",
    "d1yRate = ql.QuoteHandle(ql.SimpleQuote(d1yQuote))\n",
    "# swap rates\n",
    "s2yRate = ql.QuoteHandle(ql.SimpleQuote(s2yQuote))\n",
    "s3yRate = ql.QuoteHandle(ql.SimpleQuote(s3yQuote))\n",
    "s5yRate = ql.QuoteHandle(ql.SimpleQuote(s5yQuote))\n",
    "s10yRate = ql.QuoteHandle(ql.SimpleQuote(s10yQuote))\n",
    "s15yRate = ql.QuoteHandle(ql.SimpleQuote(s15yQuote))"
   ]
  },
  {
   "cell_type": "markdown",
   "metadata": {},
   "source": [
    "Rate Helpers\n",
    "RateHelpers are built from the above quotes together with other instrument dependant infos.  Quotes are passed in relinkable handles which could be relinked to some other data source later."
   ]
  },
  {
   "cell_type": "code",
   "execution_count": 55,
   "metadata": {},
   "outputs": [],
   "source": [
    "fixingDays = 2\n",
    "endOfMonth = False\n",
    "# deposits\n",
    "depositDayCounter = ql.Actual360()\n",
    "# there's error when we using Qutoe object for creating instance\n",
    "d1w = ql.DepositRateHelper(d1wRate, ql.Period('1W'), fixingDays, cal, ql.ModifiedFollowing, endOfMonth,depositDayCounter)\n",
    "d1m = ql.DepositRateHelper(d1mRate, ql.Period('1M'), fixingDays, cal, ql.ModifiedFollowing, endOfMonth,depositDayCounter)\n",
    "d3m = ql.DepositRateHelper(d3mRate, ql.Period('3M'), fixingDays, cal, ql.ModifiedFollowing, endOfMonth,depositDayCounter)\n",
    "d6m = ql.DepositRateHelper(d6mRate, ql.Period('6M'), fixingDays, cal, ql.ModifiedFollowing, endOfMonth,depositDayCounter)\n",
    "d9m = ql.DepositRateHelper(d9mRate, ql.Period('9M'), fixingDays, cal, ql.ModifiedFollowing, endOfMonth,depositDayCounter)\n",
    "d1y = ql.DepositRateHelper(d1yRate, ql.Period('1Y'), fixingDays, cal, ql.ModifiedFollowing, endOfMonth,depositDayCounter)\n",
    "\n",
    "# swap instruments\n",
    "swFixedLegFrequency = ql.Annual\n",
    "swFixedLegConvention = ql.Unadjusted\n",
    "swFixedLegDayCounter = ql.Thirty360(ql.Thirty360.European)\n",
    "\n",
    "swFloatingLegIndex = ql.Euribor6M()\n",
    "\n",
    "s2y = ql.SwapRateHelper(s2yRate, ql.Period('2Y'), cal, swFixedLegFrequency, swFixedLegConvention, swFixedLegDayCounter, swFloatingLegIndex)\n",
    "s3y = ql.SwapRateHelper(s3yRate, ql.Period('3Y'), cal, swFixedLegFrequency, swFixedLegConvention, swFixedLegDayCounter, swFloatingLegIndex)\n",
    "s5y = ql.SwapRateHelper(s5yRate, ql.Period('5Y'), cal, swFixedLegFrequency, swFixedLegConvention, swFixedLegDayCounter, swFloatingLegIndex)\n",
    "s10y = ql.SwapRateHelper(s10yRate, ql.Period('10Y'), cal, swFixedLegFrequency, swFixedLegConvention, swFixedLegDayCounter, swFloatingLegIndex)\n",
    "s15y = ql.SwapRateHelper(s15yRate, ql.Period('15Y'), cal, swFixedLegFrequency, swFixedLegConvention, swFixedLegDayCounter, swFloatingLegIndex)\n"
   ]
  },
  {
   "cell_type": "markdown",
   "metadata": {},
   "source": [
    "Curve Building"
   ]
  },
  {
   "cell_type": "code",
   "execution_count": 56,
   "metadata": {},
   "outputs": [
    {
     "name": "stdout",
     "output_type": "stream",
     "text": [
      "0.999575803108445\n"
     ]
    }
   ],
   "source": [
    "termStructureDayCounter = ql.ActualActual(ql.ActualActual.ISDA) \n",
    "tolerance = 1.0e-15\n",
    "\n",
    "#build curve\n",
    "helpers = ql.RateHelperVector()\n",
    "helpers.append(d1w)\n",
    "helpers.append(d1m)\n",
    "helpers.append(d3m)\n",
    "helpers.append(d6m)\n",
    "helpers.append(d9m)\n",
    "helpers.append(d1y)\n",
    "helpers.append(s2y)\n",
    "helpers.append(s3y)\n",
    "helpers.append(s5y)\n",
    "helpers.append(s10y)\n",
    "helpers.append(s15y)\n",
    "\n",
    "depoSwapTermStructure = ql.PiecewiseLogLinearDiscount(todaysDate, helpers, termStructureDayCounter)\n",
    "\n",
    "settlementDF = depoSwapTermStructure.discount(settlementDate)\n",
    "print(settlementDF)\n",
    "discFactors=[]\n",
    "for d in depoSwapTermStructure.dates():\n",
    "    date = d.ISO()\n",
    "    timeFrom = depoSwapTermStructure.timeFromReference(d)\n",
    "    zero = depoSwapTermStructure.zeroRate(d, ql.Actual365Fixed(), ql.Continuous)\n",
    "    disc = depoSwapTermStructure.discount(d)\n",
    "    discData = {'Date': date,'TimeFrom':timeFrom,'ZeroRate':zero.rate()*100.0, 'Discount': disc}\n",
    "    discFactors.append(discData)\n"
   ]
  },
  {
   "cell_type": "code",
   "execution_count": 57,
   "metadata": {},
   "outputs": [
    {
     "data": {
      "text/html": [
       "<div>\n",
       "<style scoped>\n",
       "    .dataframe tbody tr th:only-of-type {\n",
       "        vertical-align: middle;\n",
       "    }\n",
       "\n",
       "    .dataframe tbody tr th {\n",
       "        vertical-align: top;\n",
       "    }\n",
       "\n",
       "    .dataframe thead th {\n",
       "        text-align: right;\n",
       "    }\n",
       "</style>\n",
       "<table border=\"1\" class=\"dataframe\">\n",
       "  <thead>\n",
       "    <tr style=\"text-align: right;\">\n",
       "      <th></th>\n",
       "      <th>Date</th>\n",
       "      <th>TimeFrom</th>\n",
       "      <th>ZeroRate</th>\n",
       "      <th>Discount</th>\n",
       "    </tr>\n",
       "  </thead>\n",
       "  <tbody>\n",
       "    <tr>\n",
       "      <th>0</th>\n",
       "      <td>2023-06-09</td>\n",
       "      <td>0.000000</td>\n",
       "      <td>3.871618</td>\n",
       "      <td>1.000000</td>\n",
       "    </tr>\n",
       "    <tr>\n",
       "      <th>1</th>\n",
       "      <td>2023-06-20</td>\n",
       "      <td>0.030137</td>\n",
       "      <td>3.871618</td>\n",
       "      <td>0.998834</td>\n",
       "    </tr>\n",
       "    <tr>\n",
       "      <th>2</th>\n",
       "      <td>2023-07-13</td>\n",
       "      <td>0.093151</td>\n",
       "      <td>3.778278</td>\n",
       "      <td>0.996487</td>\n",
       "    </tr>\n",
       "    <tr>\n",
       "      <th>3</th>\n",
       "      <td>2023-09-13</td>\n",
       "      <td>0.263014</td>\n",
       "      <td>3.672124</td>\n",
       "      <td>0.990388</td>\n",
       "    </tr>\n",
       "    <tr>\n",
       "      <th>4</th>\n",
       "      <td>2023-12-13</td>\n",
       "      <td>0.512329</td>\n",
       "      <td>3.554233</td>\n",
       "      <td>0.981955</td>\n",
       "    </tr>\n",
       "    <tr>\n",
       "      <th>5</th>\n",
       "      <td>2024-03-13</td>\n",
       "      <td>0.761105</td>\n",
       "      <td>3.488016</td>\n",
       "      <td>0.973784</td>\n",
       "    </tr>\n",
       "    <tr>\n",
       "      <th>6</th>\n",
       "      <td>2024-06-13</td>\n",
       "      <td>1.012471</td>\n",
       "      <td>3.442658</td>\n",
       "      <td>0.965704</td>\n",
       "    </tr>\n",
       "    <tr>\n",
       "      <th>7</th>\n",
       "      <td>2025-06-13</td>\n",
       "      <td>2.010959</td>\n",
       "      <td>3.645170</td>\n",
       "      <td>0.929227</td>\n",
       "    </tr>\n",
       "    <tr>\n",
       "      <th>8</th>\n",
       "      <td>2026-06-15</td>\n",
       "      <td>3.016438</td>\n",
       "      <td>3.905072</td>\n",
       "      <td>0.888784</td>\n",
       "    </tr>\n",
       "    <tr>\n",
       "      <th>9</th>\n",
       "      <td>2028-06-13</td>\n",
       "      <td>5.012471</td>\n",
       "      <td>4.367631</td>\n",
       "      <td>0.803242</td>\n",
       "    </tr>\n",
       "    <tr>\n",
       "      <th>10</th>\n",
       "      <td>2033-06-13</td>\n",
       "      <td>10.010959</td>\n",
       "      <td>5.156365</td>\n",
       "      <td>0.596530</td>\n",
       "    </tr>\n",
       "    <tr>\n",
       "      <th>11</th>\n",
       "      <td>2038-06-14</td>\n",
       "      <td>15.013699</td>\n",
       "      <td>5.575124</td>\n",
       "      <td>0.432729</td>\n",
       "    </tr>\n",
       "  </tbody>\n",
       "</table>\n",
       "</div>"
      ],
      "text/plain": [
       "          Date   TimeFrom  ZeroRate  Discount\n",
       "0   2023-06-09   0.000000  3.871618  1.000000\n",
       "1   2023-06-20   0.030137  3.871618  0.998834\n",
       "2   2023-07-13   0.093151  3.778278  0.996487\n",
       "3   2023-09-13   0.263014  3.672124  0.990388\n",
       "4   2023-12-13   0.512329  3.554233  0.981955\n",
       "5   2024-03-13   0.761105  3.488016  0.973784\n",
       "6   2024-06-13   1.012471  3.442658  0.965704\n",
       "7   2025-06-13   2.010959  3.645170  0.929227\n",
       "8   2026-06-15   3.016438  3.905072  0.888784\n",
       "9   2028-06-13   5.012471  4.367631  0.803242\n",
       "10  2033-06-13  10.010959  5.156365  0.596530\n",
       "11  2038-06-14  15.013699  5.575124  0.432729"
      ]
     },
     "metadata": {},
     "output_type": "display_data"
    }
   ],
   "source": [
    "import pandas as pd\n",
    "\n",
    "discData = pd.DataFrame(discFactors)\n",
    "display(discData)"
   ]
  },
  {
   "cell_type": "code",
   "execution_count": 58,
   "metadata": {},
   "outputs": [
    {
     "data": {
      "text/plain": [
       "<Axes: xlabel='TimeFrom', ylabel='ZeroRate'>"
      ]
     },
     "execution_count": 58,
     "metadata": {},
     "output_type": "execute_result"
    },
    {
     "data": {
      "image/png": "[encoded data removed]",
      "text/plain": [
       "<Figure size 640x480 with 1 Axes>"
      ]
     },
     "metadata": {},
     "output_type": "display_data"
    }
   ],
   "source": [
    "import seaborn as sns\n",
    "\n",
    "sns.scatterplot(x='TimeFrom', y='ZeroRate', data=discData)\n"
   ]
  }
 ],
 "metadata": {
  "kernelspec": {
   "display_name": ".venv",
   "language": "python",
   "name": "python3"
  },
  "language_info": {
   "codemirror_mode": {
    "name": "ipython",
    "version": 3
   },
   "file_extension": ".py",
   "mimetype": "text/x-python",
   "name": "python",
   "nbconvert_exporter": "python",
   "pygments_lexer": "ipython3",
   "version": "3.9.6"
  }
 },
 "nbformat": 4,
 "nbformat_minor": 2
}
